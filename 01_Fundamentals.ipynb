{
 "cells": [
  {
   "cell_type": "markdown",
   "metadata": {},
   "source": [
    "# Modules/packages/libraries\n",
    "\n",
    "Definitions:\n",
    "\n",
    "  * Modules:\n",
    "  A module is a file which contains python functions, global variables etc. It is nothing but .py file which has python executable code / statement.\n",
    "\n",
    "  * Packages:\n",
    "  A package is a namespace which contains multiple package/modules. It is a directory which contains a special file `__init__.py`\n",
    "  \n",
    "  * Libraries:\n",
    "  A library is a collection of various packages. There is no difference between package and python library conceptually.\n",
    "  \n",
    "Modules/packages/libraries can be easily \"imported\" and made functional in your python code. A set of libriaries comes with every python installation. Others can be installed locally and then imported. Your own code sitting somewhere else in your local computer can be imported too.\n",
    "\n",
    "Further details (very important!) on packages and how to create them can be found online. We may find the need of creating our own during the course."
   ]
  },
  {
   "cell_type": "code",
   "execution_count": 1,
   "metadata": {},
   "outputs": [
    {
     "name": "stdout",
     "output_type": "stream",
     "text": [
      "3.141592653589793\n",
      "3.141592653589793\n",
      "3.141592653589793\n"
     ]
    }
   ],
   "source": [
    "###### all the \"stuff\" that is in the math library can be used\n",
    "import math\n",
    "print(math.pi)\n",
    "\n",
    "# you can give math a label for convenience\n",
    "import math as m\n",
    "print (m.pi)\n",
    "\n",
    "# alternatively you can import only a given \"thing\" from the library\n",
    "from math import pi    #you can add several libraries at once, just list them separated by a \", \"\n",
    "print (pi)\n",
    "\n",
    "# or just get everything (very dangerous!!!)\n",
    "#from math import *\n",
    "#print (sqrt(7))"
   ]
  },
  {
   "cell_type": "markdown",
   "metadata": {},
   "source": [
    "To know which modules are there for you to use just type:"
   ]
  },
  {
   "cell_type": "code",
   "execution_count": null,
   "metadata": {},
   "outputs": [],
   "source": [
    "print (help('modules'))"
   ]
  },
  {
   "cell_type": "markdown",
   "metadata": {},
   "source": [
    "`pip` is a special package. It is used from the command line to install properly (e.g. matching the version of the local packages) new packages. It can also be used from within python to check i.e. the set installed packages and their versions. N.B.: only the installed packages on top of the default ones will be listed "
   ]
  },
  {
   "cell_type": "code",
   "execution_count": 15,
   "metadata": {},
   "outputs": [
    {
     "name": "stdout",
     "output_type": "stream",
     "text": [
      "['aiohttp==3.8.1', 'aiosignal==1.2.0', 'alabaster==0.7.12', 'anaconda-client==1.9.0', 'anaconda-navigator==2.1.1', 'anaconda-project==0.10.1', 'anyio==3.5.0', 'appdirs==1.4.4', 'argh==0.26.2', 'argon2-cffi-bindings==21.2.0', 'argon2-cffi==21.3.0', 'arrow==1.2.2', 'asn1crypto==1.4.0', 'astroid==2.6.6', 'astropy==5.0.4', 'asttokens==2.0.5', 'async-generator==1.10', 'async-timeout==4.0.1', 'atomicwrites==1.4.0', 'attrs==21.4.0', 'automat==20.2.0', 'autopep8==1.6.0', 'babel==2.9.1', 'backcall==0.2.0', 'backports.functools-lru-cache==1.6.4', 'backports.shutil-get-terminal-size==1.0.0', 'backports.tempfile==1.0', 'backports.weakref==1.0.post1', 'bcrypt==3.2.0', 'beautifulsoup4==4.11.1', 'binaryornot==0.4.4', 'bitarray==2.5.0', 'bkcharts==0.2', 'black==22.1.0', 'bleach==4.1.0', 'bokeh==2.4.2', 'boto3==1.24.2', 'boto==2.49.0', 'botocore==1.27.2', 'bottleneck==1.3.4', 'brotlipy==0.7.0', 'cached-property==1.5.2', 'cachetools==4.2.2', 'certifi==2022.6.15', 'cffi==1.15.0', 'chardet==4.0.0', 'charset-normalizer==2.0.4', 'cirq-aqt==1.1.0', 'cirq-core==1.1.0', 'cirq-google==1.1.0', 'cirq-ionq==1.1.0', 'cirq-pasqal==1.1.0', 'cirq-rigetti==1.1.0', 'cirq-web==1.1.0', 'cirq==1.1.0', 'click==8.0.4', 'cloudpickle==2.0.0', 'clyent==1.2.2', 'colorama==0.4.4', 'colorcet==3.0.0', 'comtypes==1.1.10', 'conda-build==3.21.6', 'conda-content-trust==0+unknown', 'conda-pack==0.6.0', 'conda-package-handling==1.7.3', 'conda-repo-cli==1.0.4', 'conda-token==0.3.0', 'conda-verify==3.4.2', 'conda==4.13.0', 'constantly==15.1.0', 'contextlib2==0.6.0.post1', 'cookiecutter==1.7.3', 'cryptography==3.4.8', 'cssselect==1.1.0', 'cycler==0.10.0', 'cython==0.29.28', 'cytoolz==0.11.0', 'daal4py==2021.5.0', 'dask==2021.10.0', 'datashader==0.13.0', 'datashape==0.5.4', 'debugpy==1.5.1', 'decorator==5.1.1', 'defusedxml==0.7.1', 'deprecated==1.2.14', 'diff-match-patch==20200713', 'distributed==2021.10.0', 'docutils==0.17.1', 'duet==0.2.8', 'entrypoints==0.4', 'et-xmlfile==1.1.0', 'executing==0.8.3', 'fastcache==1.1.0', 'fastjsonschema==2.15.1', 'feedparser==6.0.8', 'filelock==3.6.0', 'flake8==3.9.2', 'flask==1.1.2', 'fonttools==4.25.0', 'frozenlist==1.2.0', 'fsspec==2022.3.0', 'future==0.18.2', 'fuzzywuzzy==0.18.0', 'gensim==4.1.2', 'gevent==21.8.0', 'glob2==0.7', 'google-api-core==1.34.0', 'google-auth==2.6.0', 'google-cloud-core==2.2.2', 'google-cloud-storage==1.43.0', 'google-crc32c==1.1.2', 'google-resumable-media==1.3.1', 'googleapis-common-protos==1.59.1', 'greenlet==1.1.1', 'grpcio-status==1.48.2', 'grpcio==1.56.0', 'h11==0.14.0', 'h5py==3.6.0', 'heapdict==1.0.1', 'holoviews==1.14.8', 'html5lib==1.1', 'httpcore==0.16.3', 'httpx==0.23.3', 'hvplot==0.7.3', 'hyperlink==21.0.0', 'idna==3.3', 'imagecodecs==2021.8.26', 'imageio==2.9.0', 'imagesize==1.3.0', 'importlib-metadata==4.11.3', 'incremental==21.3.0', 'inflection==0.5.1', 'iniconfig==1.1.1', 'intake==0.6.5', 'intervaltree==3.1.0', 'ipykernel==6.9.1', 'ipython-genutils==0.2.0', 'ipython==8.3.0', 'ipywidgets==7.6.5', 'iso8601==1.1.0', 'isort==5.9.3', 'itemadapter==0.3.0', 'itemloaders==1.0.4', 'itsdangerous==2.0.1', 'jdcal==1.4.1', 'jedi==0.18.1', 'jinja2-time==0.2.0', 'jinja2==2.11.3', 'jmespath==0.10.0', 'joblib==1.1.0', 'json5==0.9.6', 'jsonschema==4.4.0', 'jupyter-client==6.1.12', 'jupyter-console==6.4.0', 'jupyter-core==4.10.0', 'jupyter-server==1.13.5', 'jupyter==1.0.0', 'jupyterlab-pygments==0.1.2', 'jupyterlab-server==2.8.2', 'jupyterlab-widgets==1.0.0', 'jupyterlab==3.2.1', 'keyring==23.4.0', 'kiwisolver==1.3.1', 'lark==0.11.3', 'lazy-object-proxy==1.6.0', 'libarchive-c==2.9', 'lightgbm==3.2.1', 'llvmlite==0.38.0', 'locket==1.0.0', 'lxml==4.8.0', 'markdown==3.3.4', 'markupsafe==2.0.1', 'matplotlib-inline==0.1.2', 'matplotlib==3.3.4', 'mccabe==0.6.1', 'menuinst==1.4.18', 'missingno==0.4.2', 'mistune==0.8.4', 'mkl-fft==1.3.1', 'mkl-random==1.2.2', 'mkl-service==2.4.0', 'mlxtend==0.20.0', 'mock==4.0.3', 'more-itertools==8.10.0', 'mpmath==1.2.1', 'msgpack==1.0.3', 'multidict==5.1.0', 'multipledispatch==0.6.0', 'munkres==1.1.4', 'mypy-extensions==0.4.3', 'navigator-updater==0.2.1', 'nbclassic==0.3.5', 'nbclient==0.5.13', 'nbconvert==6.4.4', 'nbformat==5.3.0', 'nest-asyncio==1.5.5', 'networkx==2.7.1', 'nltk==3.6.5', 'nose==1.3.7', 'notebook==6.4.11', 'numba==0.55.1', 'numexpr==2.8.1', 'numpy==1.23.5', 'numpydoc==1.1.0', 'olefile==0.46', 'openpyxl==3.0.9', 'packaging==21.3', 'pandas==1.3.4', 'pandocfilters==1.5.0', 'panel==0.13.0', 'param==1.12.0', 'paramiko==2.8.1', 'parsel==1.6.0', 'parso==0.8.3', 'partd==1.2.0', 'path==16.0.0', 'pathlib2==2.3.6', 'pathspec==0.9.0', 'patsy==0.5.2', 'pep8==1.7.1', 'pexpect==4.8.0', 'pickleshare==0.7.5', 'pillow==8.1.0', 'pip==21.2.4', 'pkginfo==1.8.2', 'platformdirs==2.5.1', 'plotly==5.6.0', 'pluggy==1.0.0', 'ply==3.11', 'poyo==0.5.0', 'prometheus-client==0.13.1', 'prompt-toolkit==3.0.20', 'protego==0.1.16', 'proto-plus==1.22.3', 'protobuf==3.20.3', 'psutil==5.8.0', 'ptyprocess==0.7.0', 'pure-eval==0.2.2', 'py==1.11.0', 'pyasn1-modules==0.2.8', 'pyasn1==0.4.8', 'pycodestyle==2.7.0', 'pycosat==0.6.3', 'pycparser==2.21', 'pyct==0.4.6', 'pycurl==7.44.1', 'pydantic==1.10.9', 'pydispatcher==2.0.5', 'pydocstyle==6.1.1', 'pyerfa==2.0.0', 'pyflakes==2.3.1', 'pygments==2.11.2', 'pyhamcrest==2.0.2', 'pyjwt==2.7.0', 'pylatexenc==2.10', 'pylint==2.9.6', 'pyls-spyder==0.4.0', 'pynacl==1.4.0', 'pyodbc==4.0.32', 'pyopenssl==21.0.0', 'pyparsing==2.4.7', 'pyquil==3.5.4', 'pyreadline==2.1', 'pyrsistent==0.18.0', 'pysocks==1.7.1', 'pytest-forked==1.4.0', 'pytest==7.1.2', 'python-dateutil==2.8.1', 'python-levenshtein==0.12.2', 'python-lsp-black==1.0.0', 'python-lsp-jsonrpc==1.0.0', 'python-lsp-server==1.2.4', 'python-rapidjson==1.10', 'python-slugify==5.0.2', 'python-snappy==0.6.0', 'pytz==2021.3', 'pyviz-comms==2.0.2', 'pywavelets==1.3.0', 'pywin32-ctypes==0.2.0', 'pywin32==302', 'pywinpty==2.0.2', 'pyyaml==6.0', 'pyzmq==22.3.0', 'qcs-api-client==0.21.5', 'qdarkstyle==3.0.2', 'qstylizer==0.1.10', 'qtawesome==1.0.3', 'qtconsole==5.3.0', 'qtpy==2.0.1', 'quaternionic==1.0.1', 'queuelib==1.5.0', 'regex==2022.3.15', 'requests-file==1.5.1', 'requests==2.27.1', 'retrying==1.3.4', 'rfc3339==6.2', 'rfc3986==1.5.0', 'rope==0.22.0', 'rpcq==3.11.0', 'rsa==4.7.2', 'rtree==0.9.7', 'ruamel-yaml-conda==0.15.100', 'ruamel.yaml.clib==0.2.7', 'ruamel.yaml==0.17.32', 's3transfer==0.6.0', 'scikit-image==0.19.2', 'scikit-learn-intelex==2021.20220215.102710', 'scikit-learn==1.0.2', 'scipy==1.6.1', 'scrapy==2.6.1', 'seaborn==0.11.2', 'send2trash==1.8.0', 'service-identity==18.1.0', 'setuptools==61.2.0', 'sgmllib3k==1.0.0', 'simplegeneric==0.8.1', 'singledispatch==3.7.0', 'sip==4.19.13', 'six==1.15.0', 'smart-open==5.2.1', 'sniffio==1.2.0', 'snowballstemmer==2.2.0', 'sortedcollections==2.1.0', 'sortedcontainers==2.4.0', 'soupsieve==2.3.1', 'spherical==1.0.10', 'sphinx==4.2.0', 'sphinxcontrib-applehelp==1.0.2', 'sphinxcontrib-devhelp==1.0.2', 'sphinxcontrib-htmlhelp==2.0.0', 'sphinxcontrib-jsmath==1.0.1', 'sphinxcontrib-qthelp==1.0.3', 'sphinxcontrib-serializinghtml==1.1.5', 'sphinxcontrib-websupport==1.2.4', 'spyder-kernels==2.1.3', 'spyder==5.1.5', 'sqlalchemy==1.4.32', 'stack-data==0.2.0', 'statsmodels==0.12.2', 'sxs==2021.0.5', 'sympy==1.10.1', 'tables==3.6.1', 'tabulate==0.8.9', 'tbb==0.2', 'tblib==1.7.0', 'tenacity==8.2.2', 'terminado==0.13.1', 'testpath==0.5.0', 'text-unidecode==1.3', 'textdistance==4.2.1', 'threadpoolctl==2.2.0', 'three-merge==0.1.1', 'tifffile==2021.7.2', 'tinycss==0.4', 'tldextract==3.2.0', 'toml==0.10.2', 'tomli==2.0.1', 'toolz==0.11.2', 'tornado==6.1', 'tqdm==4.64.0', 'traitlets==5.1.1', 'twisted-iocpsupport==1.0.2', 'twisted==22.2.0', 'typed-ast==1.4.3', 'types-deprecated==1.2.9.2', 'types-python-dateutil==2.8.19.13', 'types-retry==0.9.9.3', 'typing-extensions==4.6.3', 'ujson==5.1.0', 'unicodecsv==0.14.1', 'unidecode==1.2.0', 'urllib3==1.26.9', 'w3lib==1.21.0', 'watchdog==2.1.6', 'wcwidth==0.2.5', 'webencodings==0.5.1', 'websocket-client==0.58.0', 'werkzeug==2.0.3', 'wheel==0.37.1', 'whichcraft==0.6.1', 'widgetsnbextension==3.5.2', 'win-inet-pton==1.1.0', 'win-unicode-console==0.5', 'wincertstore==0.2', 'wrapt==1.12.1', 'xarray==0.20.1', 'xlrd==2.0.1', 'xlsxwriter==3.0.3', 'xlwings==0.24.9', 'xlwt==1.3.0', 'xmltodict==0.12.0', 'yapf==0.31.0', 'yarl==1.6.3', 'zict==2.0.0', 'zipp==3.8.0', 'zope.event==4.5.0', 'zope.interface==5.4.0']\n"
     ]
    }
   ],
   "source": [
    "try:\n",
    "    # this doesn't work anymore\n",
    "    import pip\n",
    "    sorted([\"%s==%s\" % (i.key, i.version) for i in pip._internal.utils.misc.get_installed_distributions()])\n",
    "\n",
    "except:\n",
    "    # use this instead\n",
    "    import pkg_resources\n",
    "    installed_packages = pkg_resources.working_set\n",
    "    installed_packages_list = sorted([\"%s==%s\" % (i.key, i.version) for i in installed_packages])\n",
    "    print(installed_packages_list)"
   ]
  },
  {
   "cell_type": "markdown",
   "metadata": {},
   "source": [
    "# Functions"
   ]
  },
  {
   "cell_type": "code",
   "execution_count": 3,
   "metadata": {},
   "outputs": [
    {
     "name": "stdout",
     "output_type": "stream",
     "text": [
      "9\n",
      "27\n",
      "cube 27\n",
      "square 9\n"
     ]
    }
   ],
   "source": [
    "def square(x):\n",
    "    \"\"\"Square of x.\"\"\"\n",
    "    return x*x\n",
    "\n",
    "def cube(x):\n",
    "    \"\"\"Cube of x.\"\"\"\n",
    "    return x*x*x\n",
    "\n",
    "# create a dictionary of functions\n",
    "funcs = {\n",
    "    'square': square,\n",
    "    'cube': cube,\n",
    "}\n",
    "\n",
    "x = 3\n",
    "print(square(x))\n",
    "print(cube(x))\n",
    "\n",
    "for func in sorted(funcs):\n",
    "    print (func, funcs[func](x))"
   ]
  },
  {
   "cell_type": "markdown",
   "metadata": {},
   "source": [
    "## Functions arguments"
   ]
  },
  {
   "cell_type": "markdown",
   "metadata": {},
   "source": [
    "What is passsed to a function is a copy of the input. Imagine we have a list *x =[1, 2, 3]*, i.e. a mutable object. If within the function the content of *x* is directly changed (e.g. *x[0] = 999*), then *x* changes outside the funciton as well. "
   ]
  },
  {
   "cell_type": "code",
   "execution_count": 17,
   "metadata": {},
   "outputs": [
    {
     "name": "stdout",
     "output_type": "stream",
     "text": [
      "[1, 2, 3]\n",
      "[999, 2, 3]\n",
      "[999, 2, 3]\n"
     ]
    }
   ],
   "source": [
    "def modify(x):\n",
    "    x[0] = 999\n",
    "    return x\n",
    "\n",
    "x = [1,2,3]\n",
    "print (x)\n",
    "print (modify(x))\n",
    "print (x)"
   ]
  },
  {
   "cell_type": "markdown",
   "metadata": {},
   "source": [
    "However, if *x* is reassigned within the function to a new object (e.g. another list), then the copy of the name *x* now points to the new object, but *x* outside the function is unhcanged."
   ]
  },
  {
   "cell_type": "code",
   "execution_count": 18,
   "metadata": {},
   "outputs": [
    {
     "name": "stdout",
     "output_type": "stream",
     "text": [
      "[1, 2, 3]\n",
      "[4, 5, 6]\n",
      "[1, 2, 3]\n"
     ]
    }
   ],
   "source": [
    "def no_modify(x):\n",
    "    x = [4,5,6]\n",
    "    return x\n",
    "\n",
    "x = [1,2,3]\n",
    "print (x)\n",
    "print (no_modify(x))\n",
    "print (x)"
   ]
  },
  {
   "cell_type": "markdown",
   "metadata": {},
   "source": [
    "What if the function tries to modify the value of an immutable object?"
   ]
  },
  {
   "cell_type": "markdown",
   "metadata": {},
   "source": [
    "Binding of default arguments occurs at function definition:"
   ]
  },
  {
   "cell_type": "code",
   "execution_count": 19,
   "metadata": {},
   "outputs": [
    {
     "name": "stdout",
     "output_type": "stream",
     "text": [
      "[1]\n",
      "[1, 1]\n",
      "[9, 9, 9, 1]\n",
      "[1, 1, 1]\n",
      "[1, 1, 1, 1]\n"
     ]
    }
   ],
   "source": [
    "def f(x = []):\n",
    "    x.append(1)\n",
    "    return x\n",
    "\n",
    "print (f())\n",
    "print (f())\n",
    "print (f(x = [9,9,9]))\n",
    "print (f())\n",
    "print (f())"
   ]
  },
  {
   "cell_type": "markdown",
   "metadata": {},
   "source": [
    "Try to aviod that!!"
   ]
  },
  {
   "cell_type": "code",
   "execution_count": 20,
   "metadata": {},
   "outputs": [
    {
     "name": "stdout",
     "output_type": "stream",
     "text": [
      "[1]\n",
      "[1]\n",
      "[9, 9, 9, 1]\n",
      "[1]\n",
      "[1]\n"
     ]
    }
   ],
   "source": [
    "def f(x = None):\n",
    "    if x is None:\n",
    "        x = []\n",
    "    x.append(1)\n",
    "    return x\n",
    "\n",
    "print (f())\n",
    "print (f())\n",
    "print (f(x = [9,9,9]))\n",
    "print (f())\n",
    "print (f())"
   ]
  },
  {
   "cell_type": "markdown",
   "metadata": {},
   "source": [
    "## Higher order functions\n",
    "\n",
    "A function that uses another function as an input argument or returns a function is known as a higher-order function (HOF). The most familiar examples are `map` and `filter`."
   ]
  },
  {
   "cell_type": "markdown",
   "metadata": {},
   "source": [
    "### map\n",
    "\n",
    "The map function applies a function to each member of a collection"
   ]
  },
  {
   "cell_type": "code",
   "execution_count": 27,
   "metadata": {},
   "outputs": [
    {
     "name": "stdout",
     "output_type": "stream",
     "text": [
      "[0, 1, 4, 9, 16]\n",
      "0\n",
      "1\n",
      "4\n",
      "9\n",
      "16\n"
     ]
    },
    {
     "data": {
      "text/plain": [
       "[0, 1, 4, 9, 16, 25]"
      ]
     },
     "execution_count": 27,
     "metadata": {},
     "output_type": "execute_result"
    }
   ],
   "source": [
    "x = list(map(square, range(5))) \n",
    "print (x)\n",
    "\n",
    "# Note the difference w.r.t python 2. In python 3 map retuns an iterator so you can do stuff like:\n",
    "for i in map(square, range(5)): print(i)\n",
    "\n",
    "# or\n",
    "[i for i in map(square, range(6))]"
   ]
  },
  {
   "cell_type": "markdown",
   "metadata": {},
   "source": [
    "### filter\n",
    "\n",
    "The filter function applies a predicate to each member of a collection, retaining only those members where the predicate is True"
   ]
  },
  {
   "cell_type": "code",
   "execution_count": 28,
   "metadata": {},
   "outputs": [
    {
     "name": "stdout",
     "output_type": "stream",
     "text": [
      "[0, 2, 4]\n"
     ]
    }
   ],
   "source": [
    "def is_even(x):\n",
    "    return x%2 == 0\n",
    "\n",
    "print (list(filter(is_even, range(5))))"
   ]
  },
  {
   "cell_type": "markdown",
   "metadata": {},
   "source": [
    "Combinations in sequence of HOF are obviously possible"
   ]
  },
  {
   "cell_type": "code",
   "execution_count": 31,
   "metadata": {},
   "outputs": [
    {
     "data": {
      "text/plain": [
       "[0, 4, 16]"
      ]
     },
     "execution_count": 31,
     "metadata": {},
     "output_type": "execute_result"
    }
   ],
   "source": [
    "list(map(square, filter(is_even, range(5))))"
   ]
  },
  {
   "cell_type": "markdown",
   "metadata": {},
   "source": [
    "### reduce\n",
    "\n",
    "The reduce function reduces a collection using a binary operator to combine items two at a time. More often than not reduce can be substituted with a more efficient for loop. It is worth mentioning it for its key role in big-data applications together with map (the map-reduce paradigm). \n",
    "N.B.: it no loger exist as built-in function in python 3, it is now part of the `functools` library"
   ]
  },
  {
   "cell_type": "code",
   "execution_count": 32,
   "metadata": {},
   "outputs": [
    {
     "data": {
      "text/plain": [
       "15"
      ]
     },
     "execution_count": 32,
     "metadata": {},
     "output_type": "execute_result"
    }
   ],
   "source": [
    "from functools import reduce\n",
    "\n",
    "def my_add(x, y):\n",
    "    return x + y\n",
    "\n",
    "# another implementation of the sum function\n",
    "reduce(my_add, [1,2,3,4,5])"
   ]
  },
  {
   "cell_type": "markdown",
   "metadata": {},
   "source": [
    "### zip\n",
    "\n",
    "zip is useful when you need to iterate over matched elements of multiple lists"
   ]
  },
  {
   "cell_type": "code",
   "execution_count": 33,
   "metadata": {},
   "outputs": [
    {
     "name": "stdout",
     "output_type": "stream",
     "text": [
      "1 10 a\n",
      "2 20 b\n",
      "3 30 c\n"
     ]
    }
   ],
   "source": [
    "xs = [1, 2, 3, 4]\n",
    "ys = [10, 20, 30, 40]\n",
    "zs = ['a', 'b', 'c',]\n",
    "\n",
    "for x, y, z in zip(xs, ys, zs):\n",
    "    print (x, y, z)"
   ]
  },
  {
   "cell_type": "markdown",
   "metadata": {},
   "source": [
    "### Custom HOF"
   ]
  },
  {
   "cell_type": "code",
   "execution_count": 39,
   "metadata": {},
   "outputs": [
    {
     "name": "stdout",
     "output_type": "stream",
     "text": [
      "30\n",
      "100\n"
     ]
    }
   ],
   "source": [
    "def custom_sum(xs, transform):\n",
    "    \"\"\"Returns the sum of xs after a user specified transform.\"\"\"\n",
    "    return sum(map(transform, xs))\n",
    "\n",
    "xs = range(5)\n",
    "print (custom_sum(xs, square))\n",
    "print (custom_sum(xs, cube))"
   ]
  },
  {
   "cell_type": "markdown",
   "metadata": {},
   "source": [
    "### Returning a function"
   ]
  },
  {
   "cell_type": "code",
   "execution_count": 42,
   "metadata": {},
   "outputs": [],
   "source": [
    "def make_logger(target):\n",
    "    def logger(data):\n",
    "        with open(target, 'a') as f:\n",
    "            f.write(data + '\\n')\n",
    "    return logger\n",
    "\n",
    "foo_logger = make_logger('foo.txt') #foo.txt will be created if not there already\n",
    "foo_logger('Hello')\n",
    "foo_logger('World')"
   ]
  },
  {
   "cell_type": "code",
   "execution_count": 43,
   "metadata": {},
   "outputs": [
    {
     "name": "stderr",
     "output_type": "stream",
     "text": [
      "'cat' is not recognized as an internal or external command,\n",
      "operable program or batch file.\n"
     ]
    }
   ],
   "source": [
    "! cat 'foo.txt'"
   ]
  },
  {
   "cell_type": "markdown",
   "metadata": {},
   "source": [
    "## Anonimous functions (lambda)\n",
    "\n",
    "When using functional style, there is often the need to create specific functions that perform a limited task as input to a HOF such as map or filter. In such cases, these functions are often written as anonymous or lambda functions. \n",
    "The syntax is as follows:\n",
    "\n",
    "lambda *arguments* : *expression*\n",
    "\n",
    "\n",
    "If you find it hard to understand what a lambda function is doing, it should probably be rewritten as a regular function."
   ]
  },
  {
   "cell_type": "code",
   "execution_count": 44,
   "metadata": {},
   "outputs": [
    {
     "data": {
      "text/plain": [
       "7"
      ]
     },
     "execution_count": 44,
     "metadata": {},
     "output_type": "execute_result"
    }
   ],
   "source": [
    "suml = lambda x,y: x+y\n",
    "suml(3,4)"
   ]
  },
  {
   "cell_type": "code",
   "execution_count": 45,
   "metadata": {},
   "outputs": [
    {
     "data": {
      "text/plain": [
       "7"
      ]
     },
     "execution_count": 45,
     "metadata": {},
     "output_type": "execute_result"
    }
   ],
   "source": [
    "(lambda x,y: x+y)(3,4)"
   ]
  },
  {
   "cell_type": "code",
   "execution_count": 46,
   "metadata": {},
   "outputs": [
    {
     "name": "stdout",
     "output_type": "stream",
     "text": [
      "0\n",
      "1\n",
      "4\n",
      "9\n",
      "16\n"
     ]
    }
   ],
   "source": [
    "for i in map(lambda x: x*x, range(5)): print (i)"
   ]
  },
  {
   "cell_type": "code",
   "execution_count": 47,
   "metadata": {},
   "outputs": [
    {
     "name": "stdout",
     "output_type": "stream",
     "text": [
      "285\n"
     ]
    }
   ],
   "source": [
    "# what does this function do?\n",
    "from functools import reduce\n",
    "s1 = reduce(lambda x, y: x+y, map(lambda x: x**2, range(1,10)))\n",
    "print(s1)\n"
   ]
  },
  {
   "cell_type": "markdown",
   "metadata": {},
   "source": [
    "## Recursive functions "
   ]
  },
  {
   "cell_type": "code",
   "execution_count": 59,
   "metadata": {},
   "outputs": [
    {
     "name": "stdout",
     "output_type": "stream",
     "text": [
      "[1, 1, 2, 3, 5, 8, 13, 21, 34, 55]\n"
     ]
    }
   ],
   "source": [
    "def fib1(n):\n",
    "    \"\"\"Fib with recursion.\"\"\"\n",
    "\n",
    "    # base case\n",
    "    if n==0 or n==1:\n",
    "        return 1\n",
    "    # recursive case\n",
    "    else:\n",
    "        return fib1(n-1) + fib1(n-2)\n",
    "\n",
    "    \n",
    "print ([fib1(i) for i in range(10)])"
   ]
  },
  {
   "cell_type": "code",
   "execution_count": 60,
   "metadata": {},
   "outputs": [
    {
     "name": "stdout",
     "output_type": "stream",
     "text": [
      "[1, 1, 2, 3, 5, 8, 13, 21, 34, 55]\n"
     ]
    }
   ],
   "source": [
    "# In Python, a more efficient version that does not use recursion is\n",
    "\n",
    "def fib2(n):\n",
    "    \"\"\"Fib without recursion.\"\"\"\n",
    "    a, b = 0, 1\n",
    "    for i in range(1, n+1):\n",
    "        a, b = b, a+b\n",
    "    return b\n",
    "\n",
    "print ([fib2(i) for i in range(10)])"
   ]
  },
  {
   "cell_type": "code",
   "execution_count": 64,
   "metadata": {},
   "outputs": [
    {
     "name": "stdout",
     "output_type": "stream",
     "text": [
      "3.81 ms ± 9.76 µs per loop (mean ± std. dev. of 7 runs, 100 loops each)\n",
      "1.75 µs ± 32.1 ns per loop (mean ± std. dev. of 7 runs, 1,000,000 loops each)\n"
     ]
    }
   ],
   "source": [
    "# check indeed the timing:\n",
    "\n",
    "%timeit fib1(20)\n",
    "%timeit fib2(20)\n"
   ]
  },
  {
   "cell_type": "markdown",
   "metadata": {},
   "source": [
    "## Iterators\n",
    "\n",
    "Iterators represent streams of values. Because only one value is consumed at a time, they use very little memory. Use of iterators is very helpful for working with data sets too large to fit into RAM."
   ]
  },
  {
   "cell_type": "code",
   "execution_count": null,
   "metadata": {},
   "outputs": [],
   "source": [
    "# Iterators can be created from sequences with the built-in function iter()\n",
    "\n",
    "xs = [1,2,3]\n",
    "x_iter = iter(xs)\n",
    "\n",
    "print (next(x_iter))\n",
    "print (next(x_iter))\n",
    "print (next(x_iter))\n",
    "print (next(x_iter))"
   ]
  },
  {
   "cell_type": "code",
   "execution_count": null,
   "metadata": {},
   "outputs": [],
   "source": [
    "# Most commonly, iterators are used (automatically) within a for loop\n",
    "# which terminates when it encouters a StopIteration exception\n",
    "\n",
    "x_iter = iter(xs)\n",
    "for x in x_iter:\n",
    "    print (x)"
   ]
  },
  {
   "cell_type": "markdown",
   "metadata": {},
   "source": [
    "## More on comprehensions"
   ]
  },
  {
   "cell_type": "code",
   "execution_count": null,
   "metadata": {},
   "outputs": [],
   "source": [
    "# A generator expression\n",
    "\n",
    "print ((x for x in range(10)))\n",
    "\n",
    "# A list comprehesnnion\n",
    "\n",
    "print ([x**2 for x in range(10)])\n",
    "\n",
    "# A set comprehension\n",
    "\n",
    "print ({x for x in range(10)})\n",
    "\n",
    "# A dictionary comprehension\n",
    "\n",
    "print ({x: \"x\" for x in range(10)})"
   ]
  },
  {
   "cell_type": "markdown",
   "metadata": {},
   "source": [
    "## Useful Modules\n",
    "\n",
    "You may want to have a look at the content of the following modules for further usage of (HO) functions:\n",
    "  - [operator](https://docs.python.org/3/library/operator.html)\n",
    "  - [functools](https://docs.python.org/3/library/functools.html)\n",
    "  - [itertools](https://docs.python.org/3/library/itertools.html)\n",
    "  - [toolz](https://pypi.org/project/toolz/)\n",
    "  - [funcy](https://pypi.org/project/funcy/)"
   ]
  },
  {
   "cell_type": "markdown",
   "metadata": {},
   "source": [
    "## Decorators\n",
    "\n",
    "Decorators are a type of HOF that take a function and return a wrapped function that provides additional useful properties.\n",
    "\n",
    "Examples:\n",
    "\n",
    "  - logging\n",
    "  - profiling\n",
    "  - Just-In-Time (JIT) compilation"
   ]
  },
  {
   "cell_type": "code",
   "execution_count": null,
   "metadata": {},
   "outputs": [],
   "source": [
    "def my_decorator(func):\n",
    "    def wrapper():\n",
    "        print(\"Something is happening before the function is called.\")\n",
    "        func()\n",
    "        print(\"Something is happening after the function is called.\")\n",
    "    return wrapper\n",
    "\n",
    "def say_whee():\n",
    "    print(\"Whee!\")\n",
    "\n",
    "say_whee = my_decorator(say_whee)"
   ]
  },
  {
   "cell_type": "code",
   "execution_count": null,
   "metadata": {},
   "outputs": [],
   "source": [
    "say_whee()"
   ]
  },
  {
   "cell_type": "markdown",
   "metadata": {},
   "source": [
    "Python allows you to use decorators in a simpler way with the @ symbol, sometimes called the “pie” syntax"
   ]
  },
  {
   "cell_type": "code",
   "execution_count": null,
   "metadata": {},
   "outputs": [],
   "source": [
    "def my_decorator(func):\n",
    "    def wrapper():\n",
    "        print(\"Something is happening before the function is called.\")\n",
    "        func()\n",
    "        print(\"Something is happening after the function is called.\")\n",
    "    return wrapper\n",
    "\n",
    "@my_decorator\n",
    "def say_whee():\n",
    "    print(\"Whee!\")"
   ]
  },
  {
   "cell_type": "code",
   "execution_count": null,
   "metadata": {},
   "outputs": [],
   "source": [
    "say_whee()"
   ]
  },
  {
   "cell_type": "markdown",
   "metadata": {},
   "source": [
    "# Classes and Objects\n",
    "\n",
    "Old school object-oriented programming is possible and often used in python. Classes are defined similarly to standard object-oriented languages, with similar functionalities.\n",
    "\n",
    "The main python doc [page](https://docs.python.org/3/tutorial/classes.html) is worth reading through "
   ]
  },
  {
   "cell_type": "code",
   "execution_count": null,
   "metadata": {},
   "outputs": [],
   "source": [
    "class Pet:\n",
    "    # the \"constructor\"\n",
    "    def __init__(self, name, age):  #inizialize the elements of the class\n",
    "        self.name=name\n",
    "        self.age=age\n",
    "    # class functions take the \"self\" parameter !!!\n",
    "    def set_name(self,name):\n",
    "        self.name=name\n",
    "    def convert_age(self,factor):\n",
    "        self.age*=factor\n",
    "\n",
    "buddy=Pet(\"buddy\",12)\n",
    "print (buddy.name, buddy.age)\n",
    "buddy.age=3\n",
    "print (buddy.age)\n",
    "\n"
   ]
  },
  {
   "cell_type": "code",
   "execution_count": null,
   "metadata": {},
   "outputs": [],
   "source": [
    "# ineritance is straightforward\n",
    "class Dog(Pet):\n",
    "    # the following variables is \"global\", i.e. holds for all \"Dog\" objects\n",
    "    species = \"mammal\"\n",
    "    # functions can be redefined as usual\n",
    "    def convert_age(self):\n",
    "        self.age*=7\n",
    "    def set_species(self, species):\n",
    "        self.species = species\n",
    "        \n",
    "puppy=Dog(\"tobia\",10)\n",
    "print(puppy.name)\n",
    "puppy.convert_age()\n",
    "print(puppy.age)\n",
    "\n"
   ]
  },
  {
   "cell_type": "code",
   "execution_count": null,
   "metadata": {},
   "outputs": [],
   "source": []
  }
 ],
 "metadata": {
  "kernelspec": {
   "display_name": "Python 3 (ipykernel)",
   "language": "python",
   "name": "python3"
  },
  "language_info": {
   "codemirror_mode": {
    "name": "ipython",
    "version": 3
   },
   "file_extension": ".py",
   "mimetype": "text/x-python",
   "name": "python",
   "nbconvert_exporter": "python",
   "pygments_lexer": "ipython3",
   "version": "3.9.7"
  }
 },
 "nbformat": 4,
 "nbformat_minor": 2
}
