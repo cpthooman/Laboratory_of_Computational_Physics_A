{
 "cells": [
  {
   "cell_type": "markdown",
   "metadata": {},
   "source": [
    "1. The MickeyMouse problem\n",
    "\n",
    "a) Write a program that prints the numbers from 1 to 100. But for multiples of 3 print `Mickey` instead of the corresponding number and for the multiples of 5 print `Mouse`. For numbers which are multiples of both three and five print `MickeyMouse`\n",
    "\n",
    "b) Put the result in a tuple and substitute `Mickey` with `Donald` and `Mouse` with `Duck`"
   ]
  },
  {
   "cell_type": "code",
   "execution_count": 28,
   "metadata": {},
   "outputs": [
    {
     "name": "stdout",
     "output_type": "stream",
     "text": [
      "[1, 2, 'Micky', 4, 'Mouse', 'Micky', 7, 8, 'Micky', 'Mouse', 11, 'Micky', 13, 14, 'Micky Mouse', 16, 17, 'Micky', 19, 'Mouse', 'Micky', 22, 23, 'Micky', 'Mouse', 26, 'Micky', 28, 29, 'Micky Mouse', 31, 32, 'Micky', 34, 'Mouse', 'Micky', 37, 38, 'Micky', 'Mouse', 41, 'Micky', 43, 44, 'Micky Mouse', 46, 47, 'Micky', 49, 'Mouse', 'Micky', 52, 53, 'Micky', 'Mouse', 56, 'Micky', 58, 59, 'Micky Mouse', 61, 62, 'Micky', 64, 'Mouse', 'Micky', 67, 68, 'Micky', 'Mouse', 71, 'Micky', 73, 74, 'Micky Mouse', 76, 77, 'Micky', 79, 'Mouse', 'Micky', 82, 83, 'Micky', 'Mouse', 86, 'Micky', 88, 89, 'Micky Mouse', 91, 92, 'Micky', 94, 'Mouse', 'Micky', 97, 98, 'Micky', 'Mouse']\n"
     ]
    }
   ],
   "source": [
    "my_list = []\n",
    "for i in range(1, 101):\n",
    "    if i%15 == 0:\n",
    "        my_list.append(\"Micky Mouse\")\n",
    "    elif i%5 == 0:\n",
    "        my_list.append(\"Mouse\")\n",
    "    elif i%3 == 0:\n",
    "        my_list.append(\"Micky\")\n",
    "    else:\n",
    "        my_list.append(i)\n",
    "print(my_list)"
   ]
  },
  {
   "cell_type": "code",
   "execution_count": 29,
   "metadata": {},
   "outputs": [
    {
     "name": "stdout",
     "output_type": "stream",
     "text": [
      "[1, 2, 'Micky', 4, 'Mouse', 'Micky', 7, 8, 'Micky', 'Mouse', 11, 'Micky', 13, 14, 'Micky Mouse', 16, 17, 'Micky', 19, 'Mouse', 'Micky', 22, 23, 'Micky', 'Mouse', 26, 'Micky', 28, 29, 'Micky Mouse', 31, 32, 'Micky', 34, 'Mouse', 'Micky', 37, 38, 'Micky', 'Mouse', 41, 'Micky', 43, 44, 'Micky Mouse', 46, 47, 'Micky', 49, 'Mouse', 'Micky', 52, 53, 'Micky', 'Mouse', 56, 'Micky', 58, 59, 'Micky Mouse', 61, 62, 'Micky', 64, 'Mouse', 'Micky', 67, 68, 'Micky', 'Mouse', 71, 'Micky', 73, 74, 'Micky Mouse', 76, 77, 'Micky', 79, 'Mouse', 'Micky', 82, 83, 'Micky', 'Mouse', 86, 'Micky', 88, 89, 'Micky Mouse', 91, 92, 'Micky', 94, 'Mouse', 'Micky', 97, 98, 'Micky', 'Mouse']\n"
     ]
    }
   ],
   "source": [
    "your_list = [i for i in range(1, 101)]\n",
    "for i in your_list:\n",
    "    if i%15 == 0 :\n",
    "        your_list[i-1] = \"Micky Mouse\"\n",
    "    elif i%5 == 0 :\n",
    "        your_list[i-1] = \"Mouse\"\n",
    "    elif i%3 == 0 :\n",
    "        your_list[i-1] = \"Micky\"\n",
    "    else:\n",
    "        a[i-1] = i\n",
    "print(your_list)"
   ]
  },
  {
   "cell_type": "code",
   "execution_count": 32,
   "metadata": {},
   "outputs": [
    {
     "name": "stdout",
     "output_type": "stream",
     "text": [
      "(1, 2, 'Donald', 4, 'Duck', 'Donald', 7, 8, 'Donald', 'Duck', 11, 'Donald', 13, 14, 'Micky Mouse', 16, 17, 'Donald', 19, 'Duck', 'Donald', 22, 23, 'Donald', 'Duck', 26, 'Donald', 28, 29, 'Micky Mouse', 31, 32, 'Donald', 34, 'Duck', 'Donald', 37, 38, 'Donald', 'Duck', 41, 'Donald', 43, 44, 'Micky Mouse', 46, 47, 'Donald', 49, 'Duck', 'Donald', 52, 53, 'Donald', 'Duck', 56, 'Donald', 58, 59, 'Micky Mouse', 61, 62, 'Donald', 64, 'Duck', 'Donald', 67, 68, 'Donald', 'Duck', 71, 'Donald', 73, 74, 'Micky Mouse', 76, 77, 'Donald', 79, 'Duck', 'Donald', 82, 83, 'Donald', 'Duck', 86, 'Donald', 88, 89, 'Micky Mouse', 91, 92, 'Donald', 94, 'Duck', 'Donald', 97, 98, 'Donald', 'Duck')\n"
     ]
    }
   ],
   "source": [
    "for i in range(len(your_list)):\n",
    "    if your_list[i] == \"Micky\":\n",
    "        your_list[i] = \"Donald\"\n",
    "    elif your_list[i] == \"Mouse\":\n",
    "        your_list[i] = \"Duck\"\n",
    "my_tuple = tuple(your_list)        \n",
    "print(my_tuple)"
   ]
  },
  {
   "cell_type": "markdown",
   "metadata": {},
   "source": [
    "2\\. The swap function\n",
    "\n",
    "Write a function that swap the values of two input variables x and y (whatever the type). Try to do that also without a temporary variable"
   ]
  },
  {
   "cell_type": "code",
   "execution_count": 33,
   "metadata": {},
   "outputs": [],
   "source": [
    "def swap_func(x, y):\n",
    "    x, y = y, x\n",
    "    return x, y"
   ]
  },
  {
   "cell_type": "code",
   "execution_count": 35,
   "metadata": {},
   "outputs": [
    {
     "name": "stdout",
     "output_type": "stream",
     "text": [
      "Swapped values - a: 20 b: 10\n"
     ]
    }
   ],
   "source": [
    "a = 10\n",
    "b = 20\n",
    "a, b = swap_func(a, b)\n",
    "print(\"Swapped values - a:\", a, \"b:\", b)"
   ]
  },
  {
   "cell_type": "markdown",
   "metadata": {},
   "source": [
    "3\\. Computing the distance\n",
    "\n",
    "Write a function that calculates and returns the euclidean distance between two points *u* and *v*, where *u* and *v* are both 2-tuples *(x,y)*. For example, if *u=(3,0)* and *v=(0,4)*, the function should return 5"
   ]
  },
  {
   "cell_type": "code",
   "execution_count": 5,
   "metadata": {},
   "outputs": [
    {
     "name": "stdout",
     "output_type": "stream",
     "text": [
      "error! Please just enter 2 tuples as the coordinate of the points\n"
     ]
    }
   ],
   "source": [
    "def distance_calculator(a, b):\n",
    "    try:\n",
    "        c = ((a[0]-b[0])**2+(a[1]-b[1])**2)**0.5\n",
    "        return c\n",
    "    except:\n",
    "        print(\"error! Please just enter 2 tuples as the coordinates  of the points\")\n",
    "        return None\n",
    "\n",
    "distance_calculator(('a', 0), (0, 4))"
   ]
  },
  {
   "cell_type": "markdown",
   "metadata": {},
   "source": [
    "4\\. Counting letters\n",
    "\n",
    "Write a program to calculate the number of times each character occurs in a given string *s*. Ignore differneces in capitalization"
   ]
  },
  {
   "cell_type": "code",
   "execution_count": 2,
   "metadata": {},
   "outputs": [],
   "source": [
    "s = \"Write a program that prints the numbers from 1 to 100. \\\n",
    "But for multiples of three print Mickey instead of the number and for the multiples of five print Mouse. \\\n",
    "For numbers which are multiples of both three and five print MickeyMouse\""
   ]
  },
  {
   "cell_type": "code",
   "execution_count": 3,
   "metadata": {},
   "outputs": [
    {
     "name": "stdout",
     "output_type": "stream",
     "text": [
      "w: 2\n",
      "r: 17\n",
      "i: 14\n",
      "t: 19\n",
      "e: 22\n",
      "a: 7\n",
      "p: 8\n",
      "o: 13\n",
      "g: 1\n",
      "m: 12\n",
      "h: 9\n",
      "n: 10\n",
      "s: 9\n",
      "u: 9\n",
      "b: 5\n",
      "f: 10\n",
      "l: 6\n",
      "c: 3\n",
      "k: 2\n",
      "y: 2\n",
      "d: 3\n",
      "v: 2\n"
     ]
    }
   ],
   "source": [
    "# Generating a to z letters\n",
    "from string import ascii_lowercase as letters\n",
    "\n",
    "#This function calculates the number of times each character occurs in the given string\n",
    "def count_characters(s):\n",
    "    # Convert the string to lowercase to ignore case differences\n",
    "    s = s.lower()\n",
    "    # Create a dictionary to store character counts\n",
    "    char_counts = {}\n",
    "    # Iterate through each character in the string\n",
    "    for char in s:\n",
    "        # Check if the character is a letter\n",
    "        if char in letters:\n",
    "            # Update the count in the dictionary\n",
    "            char_counts[char] = char_counts.get(char, 0) + 1\n",
    "    return char_counts\n",
    "\n",
    "# Example usage:\n",
    "result = count_characters(s)\n",
    "\n",
    "# Print the character counts\n",
    "for char, count in result.items():\n",
    "    print(f\"{char}: {count}\")"
   ]
  },
  {
   "cell_type": "code",
   "execution_count": 5,
   "metadata": {},
   "outputs": [
    {
     "name": "stdout",
     "output_type": "stream",
     "text": [
      "w: 2\n",
      "r: 17\n",
      "i: 14\n",
      "t: 19\n",
      "e: 22\n",
      "a: 7\n",
      "p: 8\n",
      "o: 13\n",
      "g: 1\n",
      "m: 12\n",
      "h: 9\n",
      "n: 10\n",
      "s: 9\n",
      "u: 9\n",
      "b: 5\n",
      "f: 10\n",
      "l: 6\n",
      "c: 3\n",
      "k: 2\n",
      "y: 2\n",
      "d: 3\n",
      "v: 2\n"
     ]
    }
   ],
   "source": [
    "#This function calculates the number of times each character occurs in the given string\n",
    "def count_characters(s):\n",
    "    # Convert the string to lowercase to ignore case differences\n",
    "    s = s.lower()\n",
    "    # Create a dictionary to store character counts\n",
    "    char_counts = {}\n",
    "    # Iterate through each character in the string\n",
    "    for char in s:\n",
    "        # Check if the character is a letter\n",
    "        if char.isalpha():\n",
    "            # Update the count in the dictionary\n",
    "            char_counts[char] = char_counts.get(char, 0) + 1\n",
    "    return char_counts\n",
    "\n",
    "# Example usage:\n",
    "result = count_characters(s)\n",
    "\n",
    "# Print the character counts\n",
    "for char, count in result.items():\n",
    "    print(f\"{char}: {count}\")"
   ]
  },
  {
   "cell_type": "markdown",
   "metadata": {},
   "source": [
    "5\\. Isolating the unique\n",
    "\n",
    "Write a function that determines and count the unique numbers in the list *l*"
   ]
  },
  {
   "cell_type": "code",
   "execution_count": 16,
   "metadata": {},
   "outputs": [],
   "source": [
    "l = [36, 45, 58, 3, 74, 96, 64, 45, 31, 10, 24, 19, 33, 86, 99, 18, 63, 70, 85,\n",
    " 85, 63, 47, 56, 42, 70, 84, 88, 55, 20, 54, 8, 56, 51, 79, 81, 57, 37, 91,\n",
    " 1, 84, 84, 36, 66, 9, 89, 50, 42, 91, 50, 95, 90, 98, 39, 16, 82, 31, 92, 41,\n",
    " 45, 30, 66, 70, 34, 85, 94, 5, 3, 36, 72, 91, 84, 34, 87, 75, 53, 51, 20, 89, 51, 20]"
   ]
  },
  {
   "cell_type": "code",
   "execution_count": 28,
   "metadata": {},
   "outputs": [
    {
     "name": "stdout",
     "output_type": "stream",
     "text": [
      "1: 1\n",
      "3: 2\n",
      "5: 1\n",
      "8: 1\n",
      "9: 1\n",
      "10: 1\n",
      "16: 1\n",
      "18: 1\n",
      "19: 1\n",
      "20: 3\n",
      "24: 1\n",
      "30: 1\n",
      "31: 2\n",
      "33: 1\n",
      "34: 2\n",
      "36: 3\n",
      "37: 1\n",
      "39: 1\n",
      "41: 1\n",
      "42: 2\n",
      "45: 3\n",
      "47: 1\n",
      "50: 2\n",
      "51: 3\n",
      "53: 1\n",
      "54: 1\n",
      "55: 1\n",
      "56: 2\n",
      "57: 1\n",
      "58: 1\n",
      "63: 2\n",
      "64: 1\n",
      "66: 2\n",
      "70: 3\n",
      "72: 1\n",
      "74: 1\n",
      "75: 1\n",
      "79: 1\n",
      "81: 1\n",
      "82: 1\n",
      "84: 4\n",
      "85: 3\n",
      "86: 1\n",
      "87: 1\n",
      "88: 1\n",
      "89: 2\n",
      "90: 1\n",
      "91: 3\n",
      "92: 1\n",
      "94: 1\n",
      "95: 1\n",
      "96: 1\n",
      "98: 1\n",
      "99: 1\n"
     ]
    }
   ],
   "source": [
    "def count_unique_numbers(lst):\n",
    "    # Use a set to store unique numbers\n",
    "    unique_numbers = set(lst)\n",
    "\n",
    "    # Create a dictionary to store counts of each unique number\n",
    "    counts = {}\n",
    "\n",
    "    # Iterate through the unique numbers\n",
    "    for num in unique_numbers:\n",
    "        # Count occurrences of each unique number in the original list\n",
    "        counts[num] = lst.count(num)\n",
    "\n",
    "    return counts\n",
    "\n",
    "# Example usage:\n",
    "l = [36, 45, 58, 3, 74, 96, 64, 45, 31, 10, 24, 19, 33, 86, 99, 18, 63, 70, 85,\n",
    "     85, 63, 47, 56, 42, 70, 84, 88, 55, 20, 54, 8, 56, 51, 79, 81, 57, 37, 91,\n",
    "     1, 84, 84, 36, 66, 9, 89, 50, 42, 91, 50, 95, 90, 98, 39, 16, 82, 31, 92, 41,\n",
    "     45, 30, 66, 70, 34, 85, 94, 5, 3, 36, 72, 91, 84, 34, 87, 75, 53, 51, 20, 89, 51, 20]\n",
    "\n",
    "result = count_unique_numbers(l)\n",
    "\n",
    "# Print the counts of each unique number\n",
    "for num, count in result.items():\n",
    "    print(f\"{num}: {count}\")\n"
   ]
  },
  {
   "cell_type": "code",
   "execution_count": 27,
   "metadata": {},
   "outputs": [
    {
     "name": "stdout",
     "output_type": "stream",
     "text": [
      "1: 1\n",
      "3: 2\n",
      "5: 1\n",
      "8: 1\n",
      "9: 1\n",
      "10: 1\n",
      "16: 1\n",
      "18: 1\n",
      "19: 1\n",
      "20: 3\n",
      "24: 1\n",
      "30: 1\n",
      "31: 2\n",
      "33: 1\n",
      "34: 2\n",
      "36: 3\n",
      "37: 1\n",
      "39: 1\n",
      "41: 1\n",
      "42: 2\n",
      "45: 3\n",
      "47: 1\n",
      "50: 2\n",
      "51: 3\n",
      "53: 1\n",
      "54: 1\n",
      "55: 1\n",
      "56: 2\n",
      "57: 1\n",
      "58: 1\n",
      "63: 2\n",
      "64: 1\n",
      "66: 2\n",
      "70: 3\n",
      "72: 1\n",
      "74: 1\n",
      "75: 1\n",
      "79: 1\n",
      "81: 1\n",
      "82: 1\n",
      "84: 4\n",
      "85: 3\n",
      "86: 1\n",
      "87: 1\n",
      "88: 1\n",
      "89: 2\n",
      "90: 1\n",
      "91: 3\n",
      "92: 1\n",
      "94: 1\n",
      "95: 1\n",
      "96: 1\n",
      "98: 1\n",
      "99: 1\n",
      "Unique numbers: [1, 5, 8, 9, 10, 16, 18, 19, 24, 30, 33, 37, 39, 41, 47, 53, 54, 55, 57, 58, 64, 72, 74, 75, 79, 81, 82, 86, 87, 88, 90, 92, 94, 95, 96, 98, 99]\n",
      " number of uniques: 37\n"
     ]
    }
   ],
   "source": [
    "def unique_count(l):\n",
    "    my_set = set(l)\n",
    "    uniques = []\n",
    "    my_dic = {}\n",
    "    for i in my_set:\n",
    "        my_dic[str(i)] = 0\n",
    "    for i in l:\n",
    "        my_dic[str(i)] += 1\n",
    "    for i, j in my_dic.items():\n",
    "        print(f\"{i}: {j}\")\n",
    "        if j == 1:\n",
    "            uniques.append(int(i))\n",
    "    print(f'Unique numbers: {uniques}\\n number of uniques: {len(uniques)}')    \n",
    "    return\n",
    "unique_count(l)"
   ]
  },
  {
   "cell_type": "markdown",
   "metadata": {},
   "source": [
    "6\\. Combination of functions\n",
    "\n",
    "Write two functions - one that returns the square of a number, and one that returns the cube. Now write a third function that returns the number raised to the 6th power using the two previous functions."
   ]
  },
  {
   "cell_type": "code",
   "execution_count": 30,
   "metadata": {},
   "outputs": [
    {
     "name": "stdout",
     "output_type": "stream",
     "text": [
      "Square of 2: 4\n",
      "Cube of 2: 8\n",
      "6th power of 2: 64\n"
     ]
    }
   ],
   "source": [
    "def square(x):\n",
    "    return x ** 2\n",
    "\n",
    "def cube(x):\n",
    "    return x ** 3\n",
    "\n",
    "def sixth_power(x):\n",
    "    # Calculate the square using the square function\n",
    "    x_squared = square(x)\n",
    "    # Calculate the cube of squared x using the cube function\n",
    "    x_squared_cubed = cube(x_squared)\n",
    "    return x_squared_cubed\n",
    "\n",
    "# Example usage:\n",
    "number = 2\n",
    "\n",
    "# Calculate and print the square of the number\n",
    "print(f\"Square of {number}: {square(number)}\")\n",
    "\n",
    "# Calculate and print the cube of the number\n",
    "print(f\"Cube of {number}: {cube(number)}\")\n",
    "\n",
    "# Calculate and print the 6th power of the number using the two functions\n",
    "print(f\"6th power of {number}: {sixth_power(number)}\")\n"
   ]
  },
  {
   "cell_type": "markdown",
   "metadata": {},
   "source": [
    "7\\. Cubes\n",
    "\n",
    "Create a list of the cubes of x for x in *[0, 10]* using:\n",
    "\n",
    "a) a for loop\n",
    "\n",
    "b) a list comprehension"
   ]
  },
  {
   "cell_type": "code",
   "execution_count": 33,
   "metadata": {},
   "outputs": [
    {
     "name": "stdout",
     "output_type": "stream",
     "text": [
      "Cubes using a for loop: [0, 1, 8, 27, 64, 125, 216, 343, 512, 729, 1000]\n"
     ]
    }
   ],
   "source": [
    "cubes_for_loop = []\n",
    "\n",
    "for x in range(11):  # Range from 0 to 10 (inclusive)\n",
    "    cubes_for_loop.append(x ** 3)\n",
    "\n",
    "print(\"Cubes using a for loop:\", cubes_for_loop)"
   ]
  },
  {
   "cell_type": "code",
   "execution_count": 34,
   "metadata": {},
   "outputs": [
    {
     "name": "stdout",
     "output_type": "stream",
     "text": [
      "Cubes using list comprehension: [0, 1, 8, 27, 64, 125, 216, 343, 512, 729, 1000]\n"
     ]
    }
   ],
   "source": [
    "cubes_list_comprehension = [x ** 3 for x in range(11)]\n",
    "\n",
    "print(\"Cubes using list comprehension:\", cubes_list_comprehension)"
   ]
  },
  {
   "cell_type": "markdown",
   "metadata": {},
   "source": [
    "8\\. Nested list comprehension\n",
    "\n",
    "A Pythagorean triple is an integer solution to the Pythagorean theorem $a^2+b^2=c^2$. The first Pythagorean triple is (3,4,5). Find and put in a tuple all unique Pythagorean triples for the positive integers a, b and c less than 100."
   ]
  },
  {
   "cell_type": "code",
   "execution_count": 50,
   "metadata": {},
   "outputs": [
    {
     "name": "stdout",
     "output_type": "stream",
     "text": [
      "(3, 4, 5)\n",
      "(5, 12, 13)\n",
      "(6, 8, 10)\n",
      "(7, 24, 25)\n",
      "(8, 15, 17)\n",
      "(9, 12, 15)\n",
      "(9, 40, 41)\n",
      "(10, 24, 26)\n",
      "(11, 60, 61)\n",
      "(12, 16, 20)\n",
      "(12, 35, 37)\n",
      "(13, 84, 85)\n",
      "(14, 48, 50)\n",
      "(15, 20, 25)\n",
      "(15, 36, 39)\n",
      "(16, 30, 34)\n",
      "(16, 63, 65)\n",
      "(18, 24, 30)\n",
      "(18, 80, 82)\n",
      "(20, 21, 29)\n",
      "(20, 48, 52)\n",
      "(21, 28, 35)\n",
      "(21, 72, 75)\n",
      "(24, 32, 40)\n",
      "(24, 45, 51)\n",
      "(24, 70, 74)\n",
      "(25, 60, 65)\n",
      "(27, 36, 45)\n",
      "(28, 45, 53)\n",
      "(30, 40, 50)\n",
      "(30, 72, 78)\n",
      "(32, 60, 68)\n",
      "(33, 44, 55)\n",
      "(33, 56, 65)\n",
      "(35, 84, 91)\n",
      "(36, 48, 60)\n",
      "(36, 77, 85)\n",
      "(39, 52, 65)\n",
      "(39, 80, 89)\n",
      "(40, 42, 58)\n",
      "(40, 75, 85)\n",
      "(42, 56, 70)\n",
      "(45, 60, 75)\n",
      "(48, 55, 73)\n",
      "(48, 64, 80)\n",
      "(51, 68, 85)\n",
      "(54, 72, 90)\n",
      "(57, 76, 95)\n",
      "(60, 63, 87)\n",
      "(65, 72, 97)\n"
     ]
    }
   ],
   "source": [
    "# Using a nested list comprehension to find Pythagorean triples\n",
    "triples = [(a, b, c) for a in range(1, 100) for b in range(a, 100) for c in range(b, 100) if a**2 + b**2 == c**2]\n",
    "\n",
    "# Print the list of Pythagorean triples\n",
    "for triple in triples:\n",
    "    print(triple)"
   ]
  },
  {
   "cell_type": "markdown",
   "metadata": {},
   "source": [
    "9\\. Normalization\n",
    "\n",
    "Write a function that takes a tuple of numbers and returns it with the entries normalized to one"
   ]
  },
  {
   "cell_type": "code",
   "execution_count": 60,
   "metadata": {},
   "outputs": [
    {
     "name": "stdout",
     "output_type": "stream",
     "text": [
      "1.0\n",
      "Original tuple: (5, 15, 43)\n",
      "Normalized tuple: (0.10913493271991719, 0.32740479815975154, 0.9385604213912877)\n"
     ]
    }
   ],
   "source": [
    "def normalization(input_tuple):\n",
    "    norm = 0\n",
    "    for i in input_tuple:\n",
    "        norm += i**2\n",
    "    norm = norm**0.5\n",
    "    normalized_tuple = tuple(element / norm for element in input_tuple)\n",
    "    return normalized_tuple\n",
    "\n",
    "input_tuple = (5,15,43)\n",
    "normalized_result = normalization(input_tuple)\n",
    "print(\"Original tuple:\", input_tuple)\n",
    "print(\"Normalized tuple:\", normalized_result)"
   ]
  }
 ],
 "metadata": {
  "kernelspec": {
   "display_name": "Python 3 (ipykernel)",
   "language": "python",
   "name": "python3"
  },
  "language_info": {
   "codemirror_mode": {
    "name": "ipython",
    "version": 3
   },
   "file_extension": ".py",
   "mimetype": "text/x-python",
   "name": "python",
   "nbconvert_exporter": "python",
   "pygments_lexer": "ipython3",
   "version": "3.9.7"
  }
 },
 "nbformat": 4,
 "nbformat_minor": 2
}
